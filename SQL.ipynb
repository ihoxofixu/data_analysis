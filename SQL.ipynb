{
 "cells": [
  {
   "cell_type": "code",
   "execution_count": 226,
   "id": "f1ca6f46",
   "metadata": {},
   "outputs": [],
   "source": [
    "import sqlite3\n",
    "import csv\n",
    "from random import randint"
   ]
  },
  {
   "cell_type": "code",
   "execution_count": 227,
   "id": "f9011648",
   "metadata": {},
   "outputs": [],
   "source": [
    "con = sqlite3.connect(\"test.db\")\n",
    "cur = con.cursor()"
   ]
  },
  {
   "cell_type": "code",
   "execution_count": 228,
   "id": "2bfb3905",
   "metadata": {},
   "outputs": [],
   "source": [
    "def twodigitsnum(number):\n",
    "    return str(number // 10) + str(number % 10)\n",
    "\n",
    "def random_date():\n",
    "    return \"-\".join(list(map(str, [randint(2021, 2023), twodigitsnum(randint(1, 12)), twodigitsnum(randint(1, 28))])))\n",
    "\n",
    "def date_comparation(date1, date2):\n",
    "    y1, m1, d1 = map(int, date1.split(\"-\"))\n",
    "    y2, m2, d2 = map(int, date2.split(\"-\"))\n",
    "    if y1 > y2:\n",
    "        return False\n",
    "    elif y1 == y2:\n",
    "        if m1 > m2:\n",
    "            return False\n",
    "        elif m1 == m2:\n",
    "            if d1 >= d2:\n",
    "                return False\n",
    "    return True"
   ]
  },
  {
   "cell_type": "code",
   "execution_count": 229,
   "id": "c37be0ab",
   "metadata": {},
   "outputs": [],
   "source": [
    "#creating books data\n",
    "N = 100\n",
    "with open(\"books.csv\",\"w\") as fout:\n",
    "    dw = csv.writer(fout)\n",
    "    dw.writerow([\"id\", \"author\", \"title\", \"publish_year\"])\n",
    "    for i in range(1, N):\n",
    "        dw.writerow([twodigitsnum(i),\n",
    "                     \"author\" + twodigitsnum(randint(1, N // 10)),\n",
    "                     \"title\" + twodigitsnum(i),\n",
    "                     randint(1990, 2010)])"
   ]
  },
  {
   "cell_type": "code",
   "execution_count": 230,
   "id": "b7f6ae78",
   "metadata": {},
   "outputs": [],
   "source": [
    "#creating books table from csv file\n",
    "cur.execute(\"DROP TABLE IF EXISTS books;\")\n",
    "cur.execute(\"\"\"\n",
    "            CREATE TABLE books (\n",
    "                id INTEGER PRIMARY KEY AUTOINCREMENT NOT NULL,\n",
    "                author TEXT,\n",
    "                title TEXT,\n",
    "                publish_year INTEGER);\n",
    "            \"\"\")\n",
    "\n",
    "with open(\"books.csv\",\"r\") as fin:\n",
    "    dr = csv.DictReader(fin)\n",
    "    to_db = [(i[\"author\"], i[\"title\"], int(i[\"publish_year\"])) for i in dr]\n",
    "\n",
    "cur.executemany(\"INSERT INTO books (author, title, publish_year) VALUES (?, ?, ?);\", to_db)\n",
    "con.commit()"
   ]
  },
  {
   "cell_type": "code",
   "execution_count": 231,
   "id": "dbbe432c",
   "metadata": {},
   "outputs": [],
   "source": [
    "#creating readers data\n",
    "M = 30\n",
    "with open(\"readers.csv\",\"w\") as fout:\n",
    "    dw = csv.writer(fout)\n",
    "    dw.writerow([\"id\", \"name\"])\n",
    "    for i in range(1, M):\n",
    "        dw.writerow([twodigitsnum(i), \"name\" + twodigitsnum(randint(1, M // 3))])"
   ]
  },
  {
   "cell_type": "code",
   "execution_count": 241,
   "id": "9ce63bc7",
   "metadata": {},
   "outputs": [],
   "source": [
    "#creating readers table from csv file\n",
    "cur.execute(\"DROP TABLE IF EXISTS readers;\")\n",
    "cur.execute(\"\"\"\n",
    "            CREATE TABLE readers (\n",
    "                id INTEGER PRIMARY KEY AUTOINCREMENT NOT NULL,\n",
    "                name TEXT);\n",
    "            \"\"\")\n",
    "\n",
    "with open(\"readers.csv\",\"r\") as fin:\n",
    "    dr = csv.DictReader(fin)\n",
    "    to_db = [(int(i[\"id\"]), i[\"name\"]) for i in dr]\n",
    "\n",
    "cur.executemany(\"INSERT INTO readers (id, name) VALUES (?, ?);\", to_db)\n",
    "con.commit()"
   ]
  },
  {
   "cell_type": "code",
   "execution_count": 234,
   "id": "409d0965",
   "metadata": {},
   "outputs": [],
   "source": [
    "#creating records data\n",
    "L = 200\n",
    "with open(\"records.csv\",\"w\") as fout:\n",
    "    dw = csv.writer(fout)\n",
    "    dw.writerow([\"reader_id\", \"book_id\", \"taking_date\", \"returning_date\"])\n",
    "    for i in range(1, L):\n",
    "        taking_date = random_date()\n",
    "        returning_date = random_date()\n",
    "        while not date_comparation(taking_date, returning_date):\n",
    "            returning_date = random_date()\n",
    "        dw.writerow([twodigitsnum(randint(1, M - 1)), twodigitsnum(randint(1, N - 1)), taking_date, returning_date])"
   ]
  },
  {
   "cell_type": "code",
   "execution_count": 235,
   "id": "b771fd34",
   "metadata": {},
   "outputs": [],
   "source": [
    "#creating books table from csv file\n",
    "cur.execute(\"DROP TABLE IF EXISTS records;\")\n",
    "cur.execute(\"\"\"\n",
    "            CREATE TABLE records (\n",
    "                reader_id INTEGER,\n",
    "                book_id INTEGER,\n",
    "                taking_date TIMESTAMP,\n",
    "                returning_date TIMESTAMP,\n",
    "                FOREIGN KEY (reader_id) REFERENCES readers (id),\n",
    "                FOREIGN KEY (book_id) REFERENCES books (id));\n",
    "            \"\"\")\n",
    "\n",
    "with open(\"records.csv\",\"r\") as fin:\n",
    "    dr = csv.DictReader(fin)\n",
    "    to_db = [(int(i[\"reader_id\"]), int(i[\"book_id\"]), i[\"taking_date\"], i[\"returning_date\"]) for i in dr]\n",
    "\n",
    "cur.executemany(\"INSERT INTO records (reader_id, book_id, taking_date, returning_date) VALUES (?, ?, ?, ?);\", to_db)\n",
    "con.commit()"
   ]
  },
  {
   "cell_type": "code",
   "execution_count": 236,
   "id": "32b2a6c4",
   "metadata": {
    "scrolled": false
   },
   "outputs": [
    {
     "name": "stdout",
     "output_type": "stream",
     "text": [
      "(1, 'title01')\n",
      "(1, 'title01')\n",
      "(2, 'title02')\n",
      "(3, 'title03')\n",
      "(4, 'title04')\n"
     ]
    }
   ],
   "source": [
    "for row in cur.execute(\"\"\"\n",
    "                        SELECT\n",
    "                            records.book_id, books.title\n",
    "                        FROM records\n",
    "                        INNER JOIN (\n",
    "                            SELECT * FROM books\n",
    "                            ) books\n",
    "                        on records.book_id = books.id\n",
    "                        WHERE records.returning_date > date('now')\n",
    "                        ORDER BY records.book_id\n",
    "                        limit 5;\n",
    "                        \"\"\"):\n",
    "    print(row)"
   ]
  },
  {
   "cell_type": "code",
   "execution_count": 237,
   "id": "bae9f049",
   "metadata": {
    "scrolled": false
   },
   "outputs": [],
   "source": [
    "for row in cur.execute(\"\"\"\n",
    "                        SELECT\n",
    "                            readers.name, books.title\n",
    "                        FROM records\n",
    "                        INNER JOIN (\n",
    "                            SELECT * FROM books\n",
    "                            ) books\n",
    "                        on records.book_id = books.id\n",
    "                        INNER JOIN (\n",
    "                            SELECT * FROM readers\n",
    "                            ) readers\n",
    "                        on records.reader_id = readers.id\n",
    "                        ORDER BY readers.name\n",
    "                        limit 5;\n",
    "                        \"\"\"):\n",
    "    print(row)"
   ]
  },
  {
   "cell_type": "code",
   "execution_count": 238,
   "id": "11e94145",
   "metadata": {},
   "outputs": [
    {
     "name": "stdout",
     "output_type": "stream",
     "text": [
      "('author01', 6)\n",
      "('author02', 10)\n",
      "('author03', 9)\n",
      "('author04', 16)\n",
      "('author05', 6)\n",
      "('author06', 11)\n",
      "('author07', 14)\n",
      "('author08', 7)\n",
      "('author09', 8)\n",
      "('author10', 12)\n"
     ]
    }
   ],
   "source": [
    "for row in cur.execute(\"\"\"\n",
    "                        SELECT\n",
    "                            author, count(id)\n",
    "                        FROM books\n",
    "                        GROUP BY author;\n",
    "                        \"\"\"):\n",
    "    print(row)"
   ]
  }
 ],
 "metadata": {
  "kernelspec": {
   "display_name": "Python 3 (ipykernel)",
   "language": "python",
   "name": "python3"
  },
  "language_info": {
   "codemirror_mode": {
    "name": "ipython",
    "version": 3
   },
   "file_extension": ".py",
   "mimetype": "text/x-python",
   "name": "python",
   "nbconvert_exporter": "python",
   "pygments_lexer": "ipython3",
   "version": "3.11.2"
  }
 },
 "nbformat": 4,
 "nbformat_minor": 5
}
