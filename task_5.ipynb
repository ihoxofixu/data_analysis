{
 "cells": [
  {
   "cell_type": "markdown",
   "metadata": {
    "id": "0mwREgcF1yhk"
   },
   "source": [
    "# <a href=\"https://mipt-stats.gitlab.io/courses/ad_mipt.html\">Phystech@DataScience</a>\n",
    "## Задание 5\n",
    "\n",
    "**Правила:**\n",
    "\n",
    "* Выполненную работу нужно отправить телеграм-боту `@miptstats_pds_bot`.\n",
    "* Дедлайн **10 апреля в 23:00**. После дедлайна работы не принимаются кроме случаев наличия уважительной причины.\n",
    "* Прислать нужно ноутбук в формате `ipynb` и все фотографии, если пишете теоретическую часть от руки.\n",
    "* Решения, размещенные на каких-либо интернет-ресурсах, не принимаются. Публикация решения может быть приравнена к предоставлении возможности списать.\n",
    "* Для выполнения задания используйте этот ноутбук в качестве основы, ничего не удаляя из него.\n",
    "\n",
    "-----\n",
    "\n",
    "*Замечания.* Теоретические решения можно оформить\n",
    "* в $\\LaTeX$-формате в ноутбуке;\n",
    "* написать от руки и прикрепить к ноутбуку;\n",
    "* написать от руки и выслать боту.  \n",
    "\n",
    "Во втором случае также **важно** \"вшить\" фото в ноутбук. Сделать это можно с помощью Edit -> Insert Image в Jupyter или с помощью кнопки \"Вставить изображение\" в Colab. Следите за размером итогового файла.\n",
    "\n",
    "Фотографии принимаются только в хорошем качестве, **следите за освещением и почерком**. На фотографиях также указывайте номера задач.\n",
    "\n",
    "-----"
   ]
  },
  {
   "cell_type": "code",
   "execution_count": 16,
   "metadata": {
    "colab": {
     "base_uri": "https://localhost:8080/"
    },
    "id": "-d9lvaQn1sYA",
    "outputId": "b64ba94c-95c8-407c-b56b-9f4b51cf2d83"
   },
   "outputs": [],
   "source": [
    "import numpy as np\n",
    "import pandas as pd\n",
    "import scipy.stats as sps\n",
    "\n",
    "import matplotlib.pyplot as plt\n",
    "import seaborn as sns\n",
    "\n",
    "red = '#FF3300'\n",
    "blue = '#0099CC'\n",
    "green = '#00CC66'\n",
    "\n",
    "from statsmodels.sandbox.stats.multicomp import multipletests\n",
    "from tqdm.notebook import tqdm\n",
    "\n",
    "%matplotlib inline\n"
   ]
  },
  {
   "cell_type": "markdown",
   "metadata": {
    "id": "GJKSXxzO13Ko"
   },
   "source": [
    "# Теоретическая часть"
   ]
  },
  {
   "cell_type": "markdown",
   "metadata": {
    "id": "McY-fb-G2Odk"
   },
   "source": [
    "## p-value (основной поток)\n",
    "\n",
    "### Задача 1. \n",
    " Для всех пунктов задач 5 и 6 прошлого домашнего задания выпишите формулу для p-value  $p(t) = <...>$  в виде кода на `scipy`, где $t$ - реализация статистики вашего критерия, т.е. $t = T(x), x$ &mdash; реализация выборки, $T(X)$ &mdash; статистика. \n",
    "\n",
    "Для задачи 6 также посчитайте численные значения для обоих случаев p-value для данного в задаче существа. Какие гипотезы отклоняются? \n",
    "\n",
    "Вычисления можно выполнить в Питоне по приведенным вами формулам. \n",
    "\n",
    "\n",
    "\n"
   ]
  },
  {
   "cell_type": "code",
   "execution_count": null,
   "metadata": {},
   "outputs": [],
   "source": [
    "#Norm(theta, 1)\n",
    "\n",
    "T = lambda x: x.mean()\n",
    "\n",
    "p_val_3_a = sps.norm(loc=theta, scale=1/n**0.5).cdf(T(sample))\n",
    "p_val_3_b = sps.norm(loc=theta, scale=1/n**0.5).sf(T(sample))"
   ]
  },
  {
   "cell_type": "code",
   "execution_count": 274,
   "metadata": {},
   "outputs": [
    {
     "name": "stdout",
     "output_type": "stream",
     "text": [
      "0.022255070646549243 0.041416397470335854\n"
     ]
    }
   ],
   "source": [
    "T = lambda x: x\n",
    "\n",
    "p_val_1 = sps.gamma(a=2,scale=7/6).sf(T(6.66)) #H_0 - песик\n",
    "p_val_2 = sps.gamma(a=3,scale=44/5).cdf(T(6.66)) #H_0 - единорог\n",
    "print(p_val_1, p_val_2)"
   ]
  },
  {
   "cell_type": "markdown",
   "metadata": {},
   "source": [
    "При уровне значимости $\\alpha=0.05$ обе гипотезы отвергаются(как и получалось в прошлом задании)."
   ]
  },
  {
   "cell_type": "markdown",
   "metadata": {},
   "source": [
    "## Множественная проверка гипотез (основной поток)\n",
    "\n",
    "\n",
    "### Задача 2.\n",
    " Пусть $X_1, ...,  X_n$ --- выборка из неизвестного распределения $\\mathsf{P}$. Для проверки гипотезы $\\mathsf{H}_0\\ vs.\\ \\mathsf{H}_1$ было решено использовать три различных критерия. Соответствующие p-value равны 0.00001, 0.7361, 0.0482. Какое должно быть принято решение об отвержении гипотезы $\\mathsf{H}_0$ на уровне значимости 0.05? *Подсказка: используйте любой подходящий метод МПГ, далее делайте вывод об отвержении/не отвержении, поясните свой вывод.*"
   ]
  },
  {
   "cell_type": "code",
   "execution_count": 73,
   "metadata": {
    "scrolled": false
   },
   "outputs": [
    {
     "name": "stdout",
     "output_type": "stream",
     "text": [
      "\u001b[1mМетод bonferroni\u001b[0m\n"
     ]
    },
    {
     "data": {
      "text/html": [
       "<div>\n",
       "<style scoped>\n",
       "    .dataframe tbody tr th:only-of-type {\n",
       "        vertical-align: middle;\n",
       "    }\n",
       "\n",
       "    .dataframe tbody tr th {\n",
       "        vertical-align: top;\n",
       "    }\n",
       "\n",
       "    .dataframe thead th {\n",
       "        text-align: right;\n",
       "    }\n",
       "</style>\n",
       "<table border=\"1\" class=\"dataframe\">\n",
       "  <thead>\n",
       "    <tr style=\"text-align: right;\">\n",
       "      <th></th>\n",
       "      <th>p-value</th>\n",
       "      <th>Скорректированный p-value</th>\n",
       "      <th>Отвергаем нулевую гипотезу</th>\n",
       "    </tr>\n",
       "  </thead>\n",
       "  <tbody>\n",
       "    <tr>\n",
       "      <th>0</th>\n",
       "      <td>0.00001</td>\n",
       "      <td>0.00003</td>\n",
       "      <td>True</td>\n",
       "    </tr>\n",
       "    <tr>\n",
       "      <th>1</th>\n",
       "      <td>0.73610</td>\n",
       "      <td>1.00000</td>\n",
       "      <td>False</td>\n",
       "    </tr>\n",
       "    <tr>\n",
       "      <th>2</th>\n",
       "      <td>0.04820</td>\n",
       "      <td>0.14460</td>\n",
       "      <td>False</td>\n",
       "    </tr>\n",
       "  </tbody>\n",
       "</table>\n",
       "</div>"
      ],
      "text/plain": [
       "   p-value  Скорректированный p-value   Отвергаем нулевую гипотезу \n",
       "0  0.00001                     0.00003                         True\n",
       "1  0.73610                     1.00000                        False\n",
       "2  0.04820                     0.14460                        False"
      ]
     },
     "metadata": {},
     "output_type": "display_data"
    },
    {
     "name": "stdout",
     "output_type": "stream",
     "text": [
      "\n",
      "\n",
      "\u001b[1mМетод holm\u001b[0m\n"
     ]
    },
    {
     "data": {
      "text/html": [
       "<div>\n",
       "<style scoped>\n",
       "    .dataframe tbody tr th:only-of-type {\n",
       "        vertical-align: middle;\n",
       "    }\n",
       "\n",
       "    .dataframe tbody tr th {\n",
       "        vertical-align: top;\n",
       "    }\n",
       "\n",
       "    .dataframe thead th {\n",
       "        text-align: right;\n",
       "    }\n",
       "</style>\n",
       "<table border=\"1\" class=\"dataframe\">\n",
       "  <thead>\n",
       "    <tr style=\"text-align: right;\">\n",
       "      <th></th>\n",
       "      <th>p-value</th>\n",
       "      <th>Скорректированный p-value</th>\n",
       "      <th>Отвергаем нулевую гипотезу</th>\n",
       "    </tr>\n",
       "  </thead>\n",
       "  <tbody>\n",
       "    <tr>\n",
       "      <th>0</th>\n",
       "      <td>0.00001</td>\n",
       "      <td>0.00003</td>\n",
       "      <td>True</td>\n",
       "    </tr>\n",
       "    <tr>\n",
       "      <th>1</th>\n",
       "      <td>0.73610</td>\n",
       "      <td>0.73610</td>\n",
       "      <td>False</td>\n",
       "    </tr>\n",
       "    <tr>\n",
       "      <th>2</th>\n",
       "      <td>0.04820</td>\n",
       "      <td>0.09640</td>\n",
       "      <td>False</td>\n",
       "    </tr>\n",
       "  </tbody>\n",
       "</table>\n",
       "</div>"
      ],
      "text/plain": [
       "   p-value  Скорректированный p-value   Отвергаем нулевую гипотезу \n",
       "0  0.00001                     0.00003                         True\n",
       "1  0.73610                     0.73610                        False\n",
       "2  0.04820                     0.09640                        False"
      ]
     },
     "metadata": {},
     "output_type": "display_data"
    },
    {
     "name": "stdout",
     "output_type": "stream",
     "text": [
      "\n",
      "\n",
      "\u001b[1mМетод sidak\u001b[0m\n"
     ]
    },
    {
     "data": {
      "text/html": [
       "<div>\n",
       "<style scoped>\n",
       "    .dataframe tbody tr th:only-of-type {\n",
       "        vertical-align: middle;\n",
       "    }\n",
       "\n",
       "    .dataframe tbody tr th {\n",
       "        vertical-align: top;\n",
       "    }\n",
       "\n",
       "    .dataframe thead th {\n",
       "        text-align: right;\n",
       "    }\n",
       "</style>\n",
       "<table border=\"1\" class=\"dataframe\">\n",
       "  <thead>\n",
       "    <tr style=\"text-align: right;\">\n",
       "      <th></th>\n",
       "      <th>p-value</th>\n",
       "      <th>Скорректированный p-value</th>\n",
       "      <th>Отвергаем нулевую гипотезу</th>\n",
       "    </tr>\n",
       "  </thead>\n",
       "  <tbody>\n",
       "    <tr>\n",
       "      <th>0</th>\n",
       "      <td>0.00001</td>\n",
       "      <td>0.000030</td>\n",
       "      <td>True</td>\n",
       "    </tr>\n",
       "    <tr>\n",
       "      <th>1</th>\n",
       "      <td>0.73610</td>\n",
       "      <td>0.981621</td>\n",
       "      <td>False</td>\n",
       "    </tr>\n",
       "    <tr>\n",
       "      <th>2</th>\n",
       "      <td>0.04820</td>\n",
       "      <td>0.137742</td>\n",
       "      <td>False</td>\n",
       "    </tr>\n",
       "  </tbody>\n",
       "</table>\n",
       "</div>"
      ],
      "text/plain": [
       "   p-value  Скорректированный p-value   Отвергаем нулевую гипотезу \n",
       "0  0.00001                    0.000030                         True\n",
       "1  0.73610                    0.981621                        False\n",
       "2  0.04820                    0.137742                        False"
      ]
     },
     "metadata": {},
     "output_type": "display_data"
    },
    {
     "name": "stdout",
     "output_type": "stream",
     "text": [
      "\n",
      "\n",
      "\u001b[1mМетод holm-sidak\u001b[0m\n"
     ]
    },
    {
     "data": {
      "text/html": [
       "<div>\n",
       "<style scoped>\n",
       "    .dataframe tbody tr th:only-of-type {\n",
       "        vertical-align: middle;\n",
       "    }\n",
       "\n",
       "    .dataframe tbody tr th {\n",
       "        vertical-align: top;\n",
       "    }\n",
       "\n",
       "    .dataframe thead th {\n",
       "        text-align: right;\n",
       "    }\n",
       "</style>\n",
       "<table border=\"1\" class=\"dataframe\">\n",
       "  <thead>\n",
       "    <tr style=\"text-align: right;\">\n",
       "      <th></th>\n",
       "      <th>p-value</th>\n",
       "      <th>Скорректированный p-value</th>\n",
       "      <th>Отвергаем нулевую гипотезу</th>\n",
       "    </tr>\n",
       "  </thead>\n",
       "  <tbody>\n",
       "    <tr>\n",
       "      <th>0</th>\n",
       "      <td>0.00001</td>\n",
       "      <td>0.000030</td>\n",
       "      <td>True</td>\n",
       "    </tr>\n",
       "    <tr>\n",
       "      <th>1</th>\n",
       "      <td>0.73610</td>\n",
       "      <td>0.736100</td>\n",
       "      <td>False</td>\n",
       "    </tr>\n",
       "    <tr>\n",
       "      <th>2</th>\n",
       "      <td>0.04820</td>\n",
       "      <td>0.094077</td>\n",
       "      <td>False</td>\n",
       "    </tr>\n",
       "  </tbody>\n",
       "</table>\n",
       "</div>"
      ],
      "text/plain": [
       "   p-value  Скорректированный p-value   Отвергаем нулевую гипотезу \n",
       "0  0.00001                    0.000030                         True\n",
       "1  0.73610                    0.736100                        False\n",
       "2  0.04820                    0.094077                        False"
      ]
     },
     "metadata": {},
     "output_type": "display_data"
    },
    {
     "name": "stdout",
     "output_type": "stream",
     "text": [
      "\n",
      "\n",
      "\u001b[1mМетод fdr_by\u001b[0m\n"
     ]
    },
    {
     "data": {
      "text/html": [
       "<div>\n",
       "<style scoped>\n",
       "    .dataframe tbody tr th:only-of-type {\n",
       "        vertical-align: middle;\n",
       "    }\n",
       "\n",
       "    .dataframe tbody tr th {\n",
       "        vertical-align: top;\n",
       "    }\n",
       "\n",
       "    .dataframe thead th {\n",
       "        text-align: right;\n",
       "    }\n",
       "</style>\n",
       "<table border=\"1\" class=\"dataframe\">\n",
       "  <thead>\n",
       "    <tr style=\"text-align: right;\">\n",
       "      <th></th>\n",
       "      <th>p-value</th>\n",
       "      <th>Скорректированный p-value</th>\n",
       "      <th>Отвергаем нулевую гипотезу</th>\n",
       "    </tr>\n",
       "  </thead>\n",
       "  <tbody>\n",
       "    <tr>\n",
       "      <th>0</th>\n",
       "      <td>0.00001</td>\n",
       "      <td>0.000055</td>\n",
       "      <td>True</td>\n",
       "    </tr>\n",
       "    <tr>\n",
       "      <th>1</th>\n",
       "      <td>0.73610</td>\n",
       "      <td>1.000000</td>\n",
       "      <td>False</td>\n",
       "    </tr>\n",
       "    <tr>\n",
       "      <th>2</th>\n",
       "      <td>0.04820</td>\n",
       "      <td>0.132550</td>\n",
       "      <td>False</td>\n",
       "    </tr>\n",
       "  </tbody>\n",
       "</table>\n",
       "</div>"
      ],
      "text/plain": [
       "   p-value  Скорректированный p-value   Отвергаем нулевую гипотезу \n",
       "0  0.00001                    0.000055                         True\n",
       "1  0.73610                    1.000000                        False\n",
       "2  0.04820                    0.132550                        False"
      ]
     },
     "metadata": {},
     "output_type": "display_data"
    },
    {
     "name": "stdout",
     "output_type": "stream",
     "text": [
      "\n",
      "\n",
      "\u001b[1mМетод fdr_bh\u001b[0m\n"
     ]
    },
    {
     "data": {
      "text/html": [
       "<div>\n",
       "<style scoped>\n",
       "    .dataframe tbody tr th:only-of-type {\n",
       "        vertical-align: middle;\n",
       "    }\n",
       "\n",
       "    .dataframe tbody tr th {\n",
       "        vertical-align: top;\n",
       "    }\n",
       "\n",
       "    .dataframe thead th {\n",
       "        text-align: right;\n",
       "    }\n",
       "</style>\n",
       "<table border=\"1\" class=\"dataframe\">\n",
       "  <thead>\n",
       "    <tr style=\"text-align: right;\">\n",
       "      <th></th>\n",
       "      <th>p-value</th>\n",
       "      <th>Скорректированный p-value</th>\n",
       "      <th>Отвергаем нулевую гипотезу</th>\n",
       "    </tr>\n",
       "  </thead>\n",
       "  <tbody>\n",
       "    <tr>\n",
       "      <th>0</th>\n",
       "      <td>0.00001</td>\n",
       "      <td>0.00003</td>\n",
       "      <td>True</td>\n",
       "    </tr>\n",
       "    <tr>\n",
       "      <th>1</th>\n",
       "      <td>0.73610</td>\n",
       "      <td>0.73610</td>\n",
       "      <td>False</td>\n",
       "    </tr>\n",
       "    <tr>\n",
       "      <th>2</th>\n",
       "      <td>0.04820</td>\n",
       "      <td>0.07230</td>\n",
       "      <td>False</td>\n",
       "    </tr>\n",
       "  </tbody>\n",
       "</table>\n",
       "</div>"
      ],
      "text/plain": [
       "   p-value  Скорректированный p-value   Отвергаем нулевую гипотезу \n",
       "0  0.00001                     0.00003                         True\n",
       "1  0.73610                     0.73610                        False\n",
       "2  0.04820                     0.07230                        False"
      ]
     },
     "metadata": {},
     "output_type": "display_data"
    },
    {
     "name": "stdout",
     "output_type": "stream",
     "text": [
      "\n",
      "\n"
     ]
    }
   ],
   "source": [
    "answer = pd.DataFrame()\n",
    "pd.columns = [\"p-value до корректривки\"]\n",
    "answer[\"p-value\"] = [0.00001, 0.7361, 0.0482]\n",
    "methods = [\"bonferroni\", \"holm\", \"sidak\", \"holm-sidak\", \"fdr_by\", \"fdr_bh\"]\n",
    "for method in methods:\n",
    "    print('\\033[1m' + \"Метод \" + method + '\\033[0m')\n",
    "    result = multipletests(answer[\"p-value\"], alpha=0.05, method=method)\n",
    "    answer[\"Скорректированный p-value \"] = result[1]\n",
    "    answer[\"Отвергаем нулевую гипотезу \"] = result[0]\n",
    "    display(answer)\n",
    "    print(\"\\n\")"
   ]
  },
  {
   "cell_type": "markdown",
   "metadata": {},
   "source": [
    "**Ответ:** При использовании любого метода нулевая гипотеза отвергается лишь для первого критерия (p-val$_{corrected} < 0.05$). "
   ]
  },
  {
   "cell_type": "markdown",
   "metadata": {
    "id": "qXMt2DllZFT7"
   },
   "source": [
    "# Практическая часть"
   ]
  },
  {
   "cell_type": "markdown",
   "metadata": {
    "id": "yPjok3K0QtjG"
   },
   "source": [
    "## Множественная проверка гипотез\n"
   ]
  },
  {
   "cell_type": "markdown",
   "metadata": {
    "id": "BchoZ4E9Qw8w"
   },
   "source": [
    "### Задача 3 (все потоки).\n",
    "Проведены эксперименты для оценки эффективности нескольких препаратов для снижения послеоперационной тошноты. Результаты экспериментов приведены в таблице ниже. При проведении эксперимента пациенты делились на группы случайным образом.\n",
    "\n",
    "    \n",
    "                            Количество пациентов  Количество случаев возникновения тошноты\n",
    "\n",
    "\t\tПлацебо                80                    45 \n",
    "\n",
    "\t\tХлорпромазин           75                    26 \n",
    "    \n",
    "\t\tДименгидринат          85                    52 \n",
    "    \n",
    "\t\tПентобарбитал (100 мг) 67                    35 \n",
    "    \n",
    "\t\tПентобарбитал (150 мг) 85                    37 \n",
    "    \n",
    "\n",
    " Проведите сравнение каждого препарата по эффективности по отношению к плацебо c использованием критерия Вальда (см. лекцию 5 и последующие). Какие методы МПГ, контролирующие FWER и FDR, можно использовать в данной задаче? Какие ответы можно получить для этих методов? В каждом случае приведите значения статистики критерия Вальда, p-value и скорректированные p-value. Поясните смысл p-value и множественной проверки гипотез в данной задаче. Оформите решение структурированно. "
   ]
  },
  {
   "cell_type": "markdown",
   "metadata": {},
   "source": [
    "В данной задаче нужно использовать метод Холма, а не Шидака или Шидака-Холма, так как результаты для Пентобарбитала (100 мг) и Пентобарбитала (150 мг) могут быть зависимыми."
   ]
  },
  {
   "cell_type": "code",
   "execution_count": 55,
   "metadata": {
    "id": "h47Rfcn3Q6oi"
   },
   "outputs": [],
   "source": [
    "data = pd.DataFrame([[\"Плацебо\", 80, 45],\n",
    "    [\"Хлорпромазин\", 75, 26],\n",
    "    [\"Дименгидринат\", 85, 52],\n",
    "    [\"Пентобарбитал (100 мг)\", 67, 35],\n",
    "    [\"Пентобарбитал (150 мг)\", 85, 37]])\n",
    "\n",
    "data.columns = [\"Название\", \"Количество пациентов\", \"Количество случаев возникновения тошноты\"]"
   ]
  },
  {
   "cell_type": "code",
   "execution_count": 56,
   "metadata": {
    "colab": {
     "base_uri": "https://localhost:8080/",
     "height": 195
    },
    "id": "_WMW4TKABXsX",
    "outputId": "35aabc0d-2bba-417e-dbd4-d24594d2c41f"
   },
   "outputs": [
    {
     "data": {
      "text/html": [
       "<div>\n",
       "<style scoped>\n",
       "    .dataframe tbody tr th:only-of-type {\n",
       "        vertical-align: middle;\n",
       "    }\n",
       "\n",
       "    .dataframe tbody tr th {\n",
       "        vertical-align: top;\n",
       "    }\n",
       "\n",
       "    .dataframe thead th {\n",
       "        text-align: right;\n",
       "    }\n",
       "</style>\n",
       "<table border=\"1\" class=\"dataframe\">\n",
       "  <thead>\n",
       "    <tr style=\"text-align: right;\">\n",
       "      <th></th>\n",
       "      <th>Название</th>\n",
       "      <th>Количество пациентов</th>\n",
       "      <th>Количество случаев возникновения тошноты</th>\n",
       "    </tr>\n",
       "  </thead>\n",
       "  <tbody>\n",
       "    <tr>\n",
       "      <th>0</th>\n",
       "      <td>Плацебо</td>\n",
       "      <td>80</td>\n",
       "      <td>45</td>\n",
       "    </tr>\n",
       "    <tr>\n",
       "      <th>1</th>\n",
       "      <td>Хлорпромазин</td>\n",
       "      <td>75</td>\n",
       "      <td>26</td>\n",
       "    </tr>\n",
       "    <tr>\n",
       "      <th>2</th>\n",
       "      <td>Дименгидринат</td>\n",
       "      <td>85</td>\n",
       "      <td>52</td>\n",
       "    </tr>\n",
       "    <tr>\n",
       "      <th>3</th>\n",
       "      <td>Пентобарбитал (100 мг)</td>\n",
       "      <td>67</td>\n",
       "      <td>35</td>\n",
       "    </tr>\n",
       "    <tr>\n",
       "      <th>4</th>\n",
       "      <td>Пентобарбитал (150 мг)</td>\n",
       "      <td>85</td>\n",
       "      <td>37</td>\n",
       "    </tr>\n",
       "  </tbody>\n",
       "</table>\n",
       "</div>"
      ],
      "text/plain": [
       "                 Название  Количество пациентов  \\\n",
       "0                 Плацебо                    80   \n",
       "1            Хлорпромазин                    75   \n",
       "2           Дименгидринат                    85   \n",
       "3  Пентобарбитал (100 мг)                    67   \n",
       "4  Пентобарбитал (150 мг)                    85   \n",
       "\n",
       "   Количество случаев возникновения тошноты  \n",
       "0                                        45  \n",
       "1                                        26  \n",
       "2                                        52  \n",
       "3                                        35  \n",
       "4                                        37  "
      ]
     },
     "execution_count": 56,
     "metadata": {},
     "output_type": "execute_result"
    }
   ],
   "source": [
    "data"
   ]
  },
  {
   "cell_type": "code",
   "execution_count": 57,
   "metadata": {
    "id": "CaqbAwbaBb31"
   },
   "outputs": [
    {
     "data": {
      "text/html": [
       "<div>\n",
       "<style scoped>\n",
       "    .dataframe tbody tr th:only-of-type {\n",
       "        vertical-align: middle;\n",
       "    }\n",
       "\n",
       "    .dataframe tbody tr th {\n",
       "        vertical-align: top;\n",
       "    }\n",
       "\n",
       "    .dataframe thead th {\n",
       "        text-align: right;\n",
       "    }\n",
       "</style>\n",
       "<table border=\"1\" class=\"dataframe\">\n",
       "  <thead>\n",
       "    <tr style=\"text-align: right;\">\n",
       "      <th></th>\n",
       "      <th>Название</th>\n",
       "      <th>Количество пациентов</th>\n",
       "      <th>Количество случаев возникновения тошноты</th>\n",
       "      <th>Оценка параметра p</th>\n",
       "    </tr>\n",
       "  </thead>\n",
       "  <tbody>\n",
       "    <tr>\n",
       "      <th>0</th>\n",
       "      <td>Плацебо</td>\n",
       "      <td>80</td>\n",
       "      <td>45</td>\n",
       "      <td>0.562500</td>\n",
       "    </tr>\n",
       "    <tr>\n",
       "      <th>1</th>\n",
       "      <td>Хлорпромазин</td>\n",
       "      <td>75</td>\n",
       "      <td>26</td>\n",
       "      <td>0.346667</td>\n",
       "    </tr>\n",
       "    <tr>\n",
       "      <th>2</th>\n",
       "      <td>Дименгидринат</td>\n",
       "      <td>85</td>\n",
       "      <td>52</td>\n",
       "      <td>0.611765</td>\n",
       "    </tr>\n",
       "    <tr>\n",
       "      <th>3</th>\n",
       "      <td>Пентобарбитал (100 мг)</td>\n",
       "      <td>67</td>\n",
       "      <td>35</td>\n",
       "      <td>0.522388</td>\n",
       "    </tr>\n",
       "    <tr>\n",
       "      <th>4</th>\n",
       "      <td>Пентобарбитал (150 мг)</td>\n",
       "      <td>85</td>\n",
       "      <td>37</td>\n",
       "      <td>0.435294</td>\n",
       "    </tr>\n",
       "  </tbody>\n",
       "</table>\n",
       "</div>"
      ],
      "text/plain": [
       "                 Название  Количество пациентов  \\\n",
       "0                 Плацебо                    80   \n",
       "1            Хлорпромазин                    75   \n",
       "2           Дименгидринат                    85   \n",
       "3  Пентобарбитал (100 мг)                    67   \n",
       "4  Пентобарбитал (150 мг)                    85   \n",
       "\n",
       "   Количество случаев возникновения тошноты  Оценка параметра p  \n",
       "0                                        45            0.562500  \n",
       "1                                        26            0.346667  \n",
       "2                                        52            0.611765  \n",
       "3                                        35            0.522388  \n",
       "4                                        37            0.435294  "
      ]
     },
     "execution_count": 57,
     "metadata": {},
     "output_type": "execute_result"
    }
   ],
   "source": [
    "data[\"Оценка параметра p\"] = [data[\"Количество случаев возникновения тошноты\"][i] / data[\"Количество пациентов\"][i] for i in range(len(data[\"Название\"]))]\n",
    "data"
   ]
  },
  {
   "cell_type": "code",
   "execution_count": 58,
   "metadata": {},
   "outputs": [],
   "source": [
    "p_vals = []\n",
    "Walds_stats = []\n",
    "for i in range(1, len(data[\"Название\"])):\n",
    "    p_1 = data[\"Оценка параметра p\"][i]\n",
    "    n_1 = data[\"Количество пациентов\"][i]\n",
    "    p_2 = data[\"Оценка параметра p\"][0]\n",
    "    n_2 = data[\"Количество пациентов\"][0]\n",
    "    W_xy = (p_1 - p_2) / (p_1 * (1 - p_1) / n_1 + p_2 * (1 - p_2) / n_2) ** 0.5\n",
    "    p_val = sps.norm().cdf(W_xy)\n",
    "    Walds_stats.append(W_xy)\n",
    "    p_vals.append(p_val)\n",
    "data[\"Значение статистики критерия Вальда\"] = [\"-\"] + Walds_stats\n",
    "data[\"p-value до корректировки\"] = [\"-\"] + p_vals"
   ]
  },
  {
   "cell_type": "code",
   "execution_count": 61,
   "metadata": {},
   "outputs": [
    {
     "data": {
      "text/html": [
       "<div>\n",
       "<style scoped>\n",
       "    .dataframe tbody tr th:only-of-type {\n",
       "        vertical-align: middle;\n",
       "    }\n",
       "\n",
       "    .dataframe tbody tr th {\n",
       "        vertical-align: top;\n",
       "    }\n",
       "\n",
       "    .dataframe thead th {\n",
       "        text-align: right;\n",
       "    }\n",
       "</style>\n",
       "<table border=\"1\" class=\"dataframe\">\n",
       "  <thead>\n",
       "    <tr style=\"text-align: right;\">\n",
       "      <th></th>\n",
       "      <th>Название</th>\n",
       "      <th>Количество пациентов</th>\n",
       "      <th>Количество случаев возникновения тошноты</th>\n",
       "      <th>Оценка параметра p</th>\n",
       "      <th>Значение статистики критерия Вальда</th>\n",
       "      <th>p-value до корректировки</th>\n",
       "      <th>p-value после корректировки</th>\n",
       "      <th>Отвергаем гипотезу о неэффективности препарата</th>\n",
       "    </tr>\n",
       "  </thead>\n",
       "  <tbody>\n",
       "    <tr>\n",
       "      <th>0</th>\n",
       "      <td>Плацебо</td>\n",
       "      <td>80</td>\n",
       "      <td>45</td>\n",
       "      <td>0.562500</td>\n",
       "      <td>-</td>\n",
       "      <td>-</td>\n",
       "      <td>-</td>\n",
       "      <td>-</td>\n",
       "    </tr>\n",
       "    <tr>\n",
       "      <th>1</th>\n",
       "      <td>Хлорпромазин</td>\n",
       "      <td>75</td>\n",
       "      <td>26</td>\n",
       "      <td>0.346667</td>\n",
       "      <td>-2.764364</td>\n",
       "      <td>0.002852</td>\n",
       "      <td>0.011407</td>\n",
       "      <td>True</td>\n",
       "    </tr>\n",
       "    <tr>\n",
       "      <th>2</th>\n",
       "      <td>Дименгидринат</td>\n",
       "      <td>85</td>\n",
       "      <td>52</td>\n",
       "      <td>0.611765</td>\n",
       "      <td>0.642987</td>\n",
       "      <td>0.739884</td>\n",
       "      <td>0.739884</td>\n",
       "      <td>False</td>\n",
       "    </tr>\n",
       "    <tr>\n",
       "      <th>3</th>\n",
       "      <td>Пентобарбитал (100 мг)</td>\n",
       "      <td>67</td>\n",
       "      <td>35</td>\n",
       "      <td>0.522388</td>\n",
       "      <td>-0.486428</td>\n",
       "      <td>0.313332</td>\n",
       "      <td>0.626664</td>\n",
       "      <td>False</td>\n",
       "    </tr>\n",
       "    <tr>\n",
       "      <th>4</th>\n",
       "      <td>Пентобарбитал (150 мг)</td>\n",
       "      <td>85</td>\n",
       "      <td>37</td>\n",
       "      <td>0.435294</td>\n",
       "      <td>-1.646605</td>\n",
       "      <td>0.04982</td>\n",
       "      <td>0.149459</td>\n",
       "      <td>False</td>\n",
       "    </tr>\n",
       "  </tbody>\n",
       "</table>\n",
       "</div>"
      ],
      "text/plain": [
       "                 Название  Количество пациентов  \\\n",
       "0                 Плацебо                    80   \n",
       "1            Хлорпромазин                    75   \n",
       "2           Дименгидринат                    85   \n",
       "3  Пентобарбитал (100 мг)                    67   \n",
       "4  Пентобарбитал (150 мг)                    85   \n",
       "\n",
       "   Количество случаев возникновения тошноты  Оценка параметра p  \\\n",
       "0                                        45            0.562500   \n",
       "1                                        26            0.346667   \n",
       "2                                        52            0.611765   \n",
       "3                                        35            0.522388   \n",
       "4                                        37            0.435294   \n",
       "\n",
       "  Значение статистики критерия Вальда p-value до корректировки  \\\n",
       "0                                   -                        -   \n",
       "1                           -2.764364                 0.002852   \n",
       "2                            0.642987                 0.739884   \n",
       "3                           -0.486428                 0.313332   \n",
       "4                           -1.646605                  0.04982   \n",
       "\n",
       "  p-value после корректировки Отвергаем гипотезу о неэффективности препарата  \n",
       "0                           -                                              -  \n",
       "1                    0.011407                                           True  \n",
       "2                    0.739884                                          False  \n",
       "3                    0.626664                                          False  \n",
       "4                    0.149459                                          False  "
      ]
     },
     "execution_count": 61,
     "metadata": {},
     "output_type": "execute_result"
    }
   ],
   "source": [
    "result = multipletests(p_vals, alpha=0.05, method=\"h\")\n",
    "data[\"p-value после корректировки\"] = [\"-\"] + list(result[1])\n",
    "data[\"Отвергаем гипотезу о неэффективности препарата\"] = [\"-\"] + list(result[0])\n",
    "data"
   ]
  },
  {
   "cell_type": "markdown",
   "metadata": {
    "id": "khwfRfpXQ7Ze"
   },
   "source": [
    "**Вывод:**\n",
    "\n",
    "Мы можем утверждать, что Хлорпромазин является эффективнее чем плацебо, так как отвергли гипотезу о неэффективности данного препарата.\n",
    "\n",
    "Про остальные, на основе имеющихся данных, мы не можем утверждать, что они эффективнее чем плацебо.\n",
    "\n",
    "p-value - вероятность встретить более экстремальную статистику при верности нулевой гипотезы. В данном случае, вероятность получить разность процентов возникновений рвоты меньше некоторой реализации статистики.\n",
    "\n",
    "В данном случае мы используем методы МПГ для минимизации накапливающейся ошибки первого рода, т.е. для того чтобы выпустить как можно меньше неэффективных препаратов."
   ]
  }
 ],
 "metadata": {
  "colab": {
   "collapsed_sections": [],
   "name": "task 5.ipynb",
   "provenance": []
  },
  "kernelspec": {
   "display_name": "Python 3 (ipykernel)",
   "language": "python",
   "name": "python3"
  },
  "language_info": {
   "codemirror_mode": {
    "name": "ipython",
    "version": 3
   },
   "file_extension": ".py",
   "mimetype": "text/x-python",
   "name": "python",
   "nbconvert_exporter": "python",
   "pygments_lexer": "ipython3",
   "version": "3.11.2"
  }
 },
 "nbformat": 4,
 "nbformat_minor": 1
}
